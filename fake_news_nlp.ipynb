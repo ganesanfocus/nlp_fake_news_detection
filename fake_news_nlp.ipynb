{
 "cells": [
  {
   "cell_type": "code",
   "execution_count": 6,
   "id": "fbfe89c3",
   "metadata": {},
   "outputs": [],
   "source": [
    "import pandas as pd\n",
    "import numpy as np\n",
    "import itertools\n",
    "\n",
    "from sklearn.feature_extraction.text import CountVectorizer, TfidfVectorizer, HashingVectorizer\n",
    "from sklearn.model_selection import train_test_split\n",
    "from sklearn.linear_model import PassiveAggressiveClassifier\n",
    "\n",
    "from sklearn.naive_bayes import MultinomialNB\n",
    "from sklearn import metrics\n",
    "\n",
    "import matplotlib.pyplot as plt\n"
   ]
  },
  {
   "cell_type": "code",
   "execution_count": null,
   "id": "a16ff51e",
   "metadata": {},
   "outputs": [],
   "source": [
    "df = pd.read_csv(\"news.csv\", index_col=None)"
   ]
  },
  {
   "cell_type": "code",
   "execution_count": null,
   "id": "afed4237",
   "metadata": {},
   "outputs": [],
   "source": [
    "dataset = df.drop(\"Unnamed: 0\", axis=1) # axis 1 means column, axis 0 means row"
   ]
  },
  {
   "cell_type": "code",
   "execution_count": null,
   "id": "712f8f7c",
   "metadata": {},
   "outputs": [],
   "source": [
    "dataset.head()"
   ]
  },
  {
   "cell_type": "code",
   "execution_count": null,
   "id": "9423b1d6",
   "metadata": {},
   "outputs": [],
   "source": [
    "X = dataset[\"text\"]\n",
    "y = dataset[\"label\"]\n",
    "X_train, X_test, y_train, y_test = train_test_split(X, y, test_size=0.33, random_state=42)\n"
   ]
  },
  {
   "cell_type": "code",
   "execution_count": null,
   "id": "e0c66ccc",
   "metadata": {},
   "outputs": [],
   "source": [
    "count_vectorizer = CountVectorizer(stop_words=\"english\") # stop_words means to remove common words like \"is\", \"was\", \"were\", \"the\", \"is\", etc.\n",
    "count_train = count_vectorizer.fit_transform(X_train)\n",
    "\n",
    "count_test = count_vectorizer.transform(X_test)\n",
    "\n",
    "'''\n",
    "#  .fit() method means to create a model from the training data\n",
    "#  .fit_transform() method means model create + predict  from training data\n",
    "'''\n",
    "\n"
   ]
  },
  {
   "cell_type": "code",
   "execution_count": null,
   "id": "cf5271bd",
   "metadata": {},
   "outputs": [],
   "source": [
    "dir(count_train)"
   ]
  },
  {
   "cell_type": "code",
   "execution_count": null,
   "id": "68abbf6c",
   "metadata": {},
   "outputs": [],
   "source": [
    "len(count_vectorizer.get_feature_names_out()) # To get the number of features in the training data"
   ]
  },
  {
   "cell_type": "code",
   "execution_count": null,
   "id": "cf6307fe",
   "metadata": {},
   "outputs": [],
   "source": [
    "clf  = MultinomialNB()\n",
    "clf.fit(count_train, y_train) # train the model with the training data\n",
    "\n",
    "pred = clf.predict(count_test) # predict the test data\n",
    "print(pred[:10]) # print the first 10 predictions\n",
    "print(y_test[:10]) # print the first 10 actual values\n",
    "\n",
    "score = metrics.accuracy_score(y_test, pred) # calculate the accuracy of the model\n",
    "print(\"Accuracy: %0.3f\"  % score )\n",
    "\n",
    "cm = metrics.confusion_matrix(y_test, pred, labels=[\"FAKE\", \"REAL\"])"
   ]
  },
  {
   "cell_type": "code",
   "execution_count": null,
   "id": "0f015a5f",
   "metadata": {},
   "outputs": [],
   "source": [
    "from sklearn.metrics import classification_report\n",
    "report = classification_report(y_test, pred)\n",
    "\n",
    "# Evaluation Actual (y_test) - Predicted (pred)"
   ]
  },
  {
   "cell_type": "code",
   "execution_count": null,
   "id": "07860b75",
   "metadata": {},
   "outputs": [],
   "source": [
    "print(report)"
   ]
  }
 ],
 "metadata": {
  "kernelspec": {
   "display_name": "Python 3",
   "language": "python",
   "name": "python3"
  },
  "language_info": {
   "codemirror_mode": {
    "name": "ipython",
    "version": 3
   },
   "file_extension": ".py",
   "mimetype": "text/x-python",
   "name": "python",
   "nbconvert_exporter": "python",
   "pygments_lexer": "ipython3",
   "version": "3.11.5"
  }
 },
 "nbformat": 4,
 "nbformat_minor": 5
}
