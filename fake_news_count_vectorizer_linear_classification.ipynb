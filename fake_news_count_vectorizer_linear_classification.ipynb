{
 "cells": [
  {
   "cell_type": "code",
   "execution_count": 2,
   "id": "fbfe89c3",
   "metadata": {},
   "outputs": [],
   "source": [
    "import pandas as pd\n",
    "import numpy as np\n",
    "import itertools\n",
    "\n",
    "from sklearn.feature_extraction.text import CountVectorizer, TfidfVectorizer, HashingVectorizer\n",
    "from sklearn.model_selection import train_test_split\n",
    "from sklearn.linear_model import PassiveAggressiveClassifier\n",
    "\n",
    "from sklearn.naive_bayes import MultinomialNB\n",
    "from sklearn import metrics\n",
    "\n",
    "import matplotlib.pyplot as plt\n"
   ]
  },
  {
   "cell_type": "code",
   "execution_count": 3,
   "id": "a16ff51e",
   "metadata": {},
   "outputs": [],
   "source": [
    "df = pd.read_csv(\"news.csv\", index_col=None)"
   ]
  },
  {
   "cell_type": "code",
   "execution_count": 4,
   "id": "97c15022",
   "metadata": {},
   "outputs": [
    {
     "data": {
      "text/html": [
       "<div>\n",
       "<style scoped>\n",
       "    .dataframe tbody tr th:only-of-type {\n",
       "        vertical-align: middle;\n",
       "    }\n",
       "\n",
       "    .dataframe tbody tr th {\n",
       "        vertical-align: top;\n",
       "    }\n",
       "\n",
       "    .dataframe thead th {\n",
       "        text-align: right;\n",
       "    }\n",
       "</style>\n",
       "<table border=\"1\" class=\"dataframe\">\n",
       "  <thead>\n",
       "    <tr style=\"text-align: right;\">\n",
       "      <th></th>\n",
       "      <th>Unnamed: 0</th>\n",
       "      <th>title</th>\n",
       "      <th>text</th>\n",
       "      <th>label</th>\n",
       "    </tr>\n",
       "  </thead>\n",
       "  <tbody>\n",
       "    <tr>\n",
       "      <th>0</th>\n",
       "      <td>8476</td>\n",
       "      <td>You Can Smell Hillary’s Fear</td>\n",
       "      <td>Daniel Greenfield, a Shillman Journalism Fello...</td>\n",
       "      <td>FAKE</td>\n",
       "    </tr>\n",
       "    <tr>\n",
       "      <th>1</th>\n",
       "      <td>10294</td>\n",
       "      <td>Watch The Exact Moment Paul Ryan Committed Pol...</td>\n",
       "      <td>Google Pinterest Digg Linkedin Reddit Stumbleu...</td>\n",
       "      <td>FAKE</td>\n",
       "    </tr>\n",
       "    <tr>\n",
       "      <th>2</th>\n",
       "      <td>3608</td>\n",
       "      <td>Kerry to go to Paris in gesture of sympathy</td>\n",
       "      <td>U.S. Secretary of State John F. Kerry said Mon...</td>\n",
       "      <td>REAL</td>\n",
       "    </tr>\n",
       "    <tr>\n",
       "      <th>3</th>\n",
       "      <td>10142</td>\n",
       "      <td>Bernie supporters on Twitter erupt in anger ag...</td>\n",
       "      <td>— Kaydee King (@KaydeeKing) November 9, 2016 T...</td>\n",
       "      <td>FAKE</td>\n",
       "    </tr>\n",
       "    <tr>\n",
       "      <th>4</th>\n",
       "      <td>875</td>\n",
       "      <td>The Battle of New York: Why This Primary Matters</td>\n",
       "      <td>It's primary day in New York and front-runners...</td>\n",
       "      <td>REAL</td>\n",
       "    </tr>\n",
       "  </tbody>\n",
       "</table>\n",
       "</div>"
      ],
      "text/plain": [
       "   Unnamed: 0                                              title  \\\n",
       "0        8476                       You Can Smell Hillary’s Fear   \n",
       "1       10294  Watch The Exact Moment Paul Ryan Committed Pol...   \n",
       "2        3608        Kerry to go to Paris in gesture of sympathy   \n",
       "3       10142  Bernie supporters on Twitter erupt in anger ag...   \n",
       "4         875   The Battle of New York: Why This Primary Matters   \n",
       "\n",
       "                                                text label  \n",
       "0  Daniel Greenfield, a Shillman Journalism Fello...  FAKE  \n",
       "1  Google Pinterest Digg Linkedin Reddit Stumbleu...  FAKE  \n",
       "2  U.S. Secretary of State John F. Kerry said Mon...  REAL  \n",
       "3  — Kaydee King (@KaydeeKing) November 9, 2016 T...  FAKE  \n",
       "4  It's primary day in New York and front-runners...  REAL  "
      ]
     },
     "execution_count": 4,
     "metadata": {},
     "output_type": "execute_result"
    }
   ],
   "source": [
    "df.head()"
   ]
  },
  {
   "cell_type": "code",
   "execution_count": 5,
   "id": "afed4237",
   "metadata": {},
   "outputs": [],
   "source": [
    "dataset = df.drop(\"Unnamed: 0\", axis=1) # axis 1 means column, axis 0 means row"
   ]
  },
  {
   "cell_type": "code",
   "execution_count": 6,
   "id": "9423b1d6",
   "metadata": {},
   "outputs": [],
   "source": [
    "X = dataset[\"text\"]\n",
    "y = dataset[\"label\"]\n",
    "X_train, X_test, y_train, y_test = train_test_split(X, y, test_size=0.33, random_state=42)\n"
   ]
  },
  {
   "cell_type": "code",
   "execution_count": 7,
   "id": "e0c66ccc",
   "metadata": {},
   "outputs": [
    {
     "data": {
      "text/plain": [
       "'\\n#  .fit() method means to create a model from the training data\\n#  .fit_transform() method means model create + predict  from training data\\n'"
      ]
     },
     "execution_count": 7,
     "metadata": {},
     "output_type": "execute_result"
    }
   ],
   "source": [
    "count_vectorizer = CountVectorizer(stop_words=\"english\") # stop_words means to remove common words like \"is\", \"was\", \"were\", \"the\", \"is\", etc.\n",
    "count_train = count_vectorizer.fit_transform(X_train) # it creates a model from the training data and then predicts the training data\n",
    "\n",
    "count_test = count_vectorizer.transform(X_test)\n",
    "\n",
    "'''\n",
    "#  .fit() method means to create a model from the training data\n",
    "#  .fit_transform() method means model create + predict  from training data\n",
    "'''\n",
    "\n"
   ]
  },
  {
   "cell_type": "code",
   "execution_count": 8,
   "id": "2daf99b4",
   "metadata": {},
   "outputs": [
    {
     "name": "stdout",
     "output_type": "stream",
     "text": [
      "[[0 0 0 ... 0 0 0]\n",
      " [0 0 0 ... 0 0 0]\n",
      " [0 0 0 ... 0 0 0]\n",
      " ...\n",
      " [0 0 0 ... 0 0 0]\n",
      " [0 0 0 ... 0 0 0]\n",
      " [0 0 0 ... 0 0 0]]\n"
     ]
    }
   ],
   "source": [
    "print(count_train.toarray())"
   ]
  },
  {
   "cell_type": "code",
   "execution_count": 9,
   "id": "68abbf6c",
   "metadata": {},
   "outputs": [
    {
     "data": {
      "text/plain": [
       "56801"
      ]
     },
     "execution_count": 9,
     "metadata": {},
     "output_type": "execute_result"
    }
   ],
   "source": [
    "len(count_vectorizer.get_feature_names_out()) # To get the number of features in the training data"
   ]
  },
  {
   "cell_type": "code",
   "execution_count": 10,
   "id": "cf6307fe",
   "metadata": {},
   "outputs": [
    {
     "name": "stdout",
     "output_type": "stream",
     "text": [
      "['FAKE' 'FAKE' 'FAKE' ... 'REAL' 'FAKE' 'FAKE']\n",
      "Accuracy: 0.913\n"
     ]
    }
   ],
   "source": [
    "# Linear Classification\n",
    "from sklearn.linear_model import LogisticRegression\n",
    "\n",
    "reg = LogisticRegression()\n",
    "reg.fit(count_train, y_train) # train the model with the training data\n",
    "pred = reg.predict(count_test) # predict the test data\n",
    "print(pred)\n",
    "\n",
    "\n",
    "score = metrics.accuracy_score(y_test, pred) # calculate the accuracy of the model\n",
    "print(\"Accuracy: %0.3f\"  % score )\n",
    "\n",
    "cm = metrics.confusion_matrix(y_test, pred, labels=[\"FAKE\", \"REAL\"])"
   ]
  },
  {
   "cell_type": "code",
   "execution_count": 11,
   "id": "b3e58997",
   "metadata": {},
   "outputs": [
    {
     "name": "stdout",
     "output_type": "stream",
     "text": [
      "[[988  83]\n",
      " [ 99 921]]\n"
     ]
    }
   ],
   "source": [
    "print(cm)"
   ]
  },
  {
   "cell_type": "code",
   "execution_count": 12,
   "id": "0f015a5f",
   "metadata": {},
   "outputs": [],
   "source": [
    "from sklearn.metrics import classification_report\n",
    "report = classification_report(y_test, pred)\n",
    "\n",
    "# Evaluation Actual (y_test) - Predicted (pred)"
   ]
  },
  {
   "cell_type": "code",
   "execution_count": 13,
   "id": "07860b75",
   "metadata": {},
   "outputs": [
    {
     "name": "stdout",
     "output_type": "stream",
     "text": [
      "              precision    recall  f1-score   support\n",
      "\n",
      "        FAKE       0.91      0.92      0.92      1071\n",
      "        REAL       0.92      0.90      0.91      1020\n",
      "\n",
      "    accuracy                           0.91      2091\n",
      "   macro avg       0.91      0.91      0.91      2091\n",
      "weighted avg       0.91      0.91      0.91      2091\n",
      "\n"
     ]
    }
   ],
   "source": [
    "print(report)"
   ]
  },
  {
   "cell_type": "code",
   "execution_count": 14,
   "id": "73967468",
   "metadata": {},
   "outputs": [
    {
     "name": "stdout",
     "output_type": "stream",
     "text": [
      "Daniel Greenfield, a Shillman Journalism Fellow at the Freedom Center, is a New York writer focusing on radical Islam. \n",
      "In the final stretch of the election, Hillary Rodham Clinton has gone to war with the FBI. \n",
      "The word “unprecedented” has been thrown around so often this election that it ought to be retired. But it’s still unprecedented for the nominee of a major political party to go war with the FBI. \n",
      "But that’s exactly what Hillary and her people have done. Coma patients just waking up now and watching an hour of CNN from their hospital beds would assume that FBI Director James Comey is Hillary’s opponent in this election. \n",
      "The FBI is under attack by everyone from Obama to CNN. Hillary’s people have circulated a letter attacking Comey. There are currently more media hit pieces lambasting him than targeting Trump. It wouldn’t be too surprising if the Clintons or their allies were to start running attack ads against the FBI. \n",
      "The FBI’s leadership is being warned that the entire left-wing establishment will form a lynch mob if they continue going after Hillary. And the FBI’s credibility is being attacked by the media and the Democrats to preemptively head off the results of the investigation of the Clinton Foundation and Hillary Clinton. \n",
      "The covert struggle between FBI agents and Obama’s DOJ people has gone explosively public. \n",
      "The New York Times has compared Comey to J. Edgar Hoover. Its bizarre headline, “James Comey Role Recalls Hoover’s FBI, Fairly or Not” practically admits up front that it’s spouting nonsense. The Boston Globe has published a column calling for Comey’s resignation. Not to be outdone, Time has an editorial claiming that the scandal is really an attack on all women. \n",
      "James Carville appeared on MSNBC to remind everyone that he was still alive and insane. He accused Comey of coordinating with House Republicans and the KGB. And you thought the “vast right wing conspiracy” was a stretch. \n",
      "Countless media stories charge Comey with violating procedure. Do you know what’s a procedural violation? Emailing classified information stored on your bathroom server. \n",
      "Senator Harry Reid has sent Comey a letter accusing him of violating the Hatch Act. The Hatch Act is a nice idea that has as much relevance in the age of Obama as the Tenth Amendment. But the cable news spectrum quickly filled with media hacks glancing at the Wikipedia article on the Hatch Act under the table while accusing the FBI director of one of the most awkward conspiracies against Hillary ever. \n",
      "If James Comey is really out to hurt Hillary, he picked one hell of a strange way to do it. \n",
      "Not too long ago Democrats were breathing a sigh of relief when he gave Hillary Clinton a pass in a prominent public statement. If he really were out to elect Trump by keeping the email scandal going, why did he trash the investigation? Was he on the payroll of House Republicans and the KGB back then and playing it coy or was it a sudden development where Vladimir Putin and Paul Ryan talked him into taking a look at Anthony Weiner’s computer? \n",
      "Either Comey is the most cunning FBI director that ever lived or he’s just awkwardly trying to navigate a political mess that has trapped him between a DOJ leadership whose political futures are tied to Hillary’s victory and his own bureau whose apolitical agents just want to be allowed to do their jobs. \n",
      "The only truly mysterious thing is why Hillary and her associates decided to go to war with a respected Federal agency. Most Americans like the FBI while Hillary Clinton enjoys a 60% unfavorable rating. \n",
      "And it’s an interesting question. \n",
      "Hillary’s old strategy was to lie and deny that the FBI even had a criminal investigation underway. Instead her associates insisted that it was a security review. The FBI corrected her and she shrugged it off. But the old breezy denial approach has given way to a savage assault on the FBI. \n",
      "Pretending that nothing was wrong was a bad strategy, but it was a better one that picking a fight with the FBI while lunatic Clinton associates try to claim that the FBI is really the KGB. \n",
      "There are two possible explanations. \n",
      "Hillary Clinton might be arrogant enough to lash out at the FBI now that she believes that victory is near. The same kind of hubris that led her to plan her victory fireworks display could lead her to declare a war on the FBI for irritating her during the final miles of her campaign. \n",
      "But the other explanation is that her people panicked. \n",
      "Going to war with the FBI is not the behavior of a smart and focused presidential campaign. It’s an act of desperation. When a presidential candidate decides that her only option is to try and destroy the credibility of the FBI, that’s not hubris, it’s fear of what the FBI might be about to reveal about her. \n",
      "During the original FBI investigation, Hillary Clinton was confident that she could ride it out. And she had good reason for believing that. But that Hillary Clinton is gone. In her place is a paranoid wreck. Within a short space of time the “positive” Clinton campaign promising to unite the country has been replaced by a desperate and flailing operation that has focused all its energy on fighting the FBI. \n",
      "There’s only one reason for such bizarre behavior. \n",
      "The Clinton campaign has decided that an FBI investigation of the latest batch of emails poses a threat to its survival. And so it’s gone all in on fighting the FBI. It’s an unprecedented step born of fear. It’s hard to know whether that fear is justified. But the existence of that fear already tells us a whole lot. \n",
      "Clinton loyalists rigged the old investigation. They knew the outcome ahead of time as well as they knew the debate questions. Now suddenly they are no longer in control. And they are afraid. \n",
      "You can smell the fear. \n",
      "The FBI has wiretaps from the investigation of the Clinton Foundation. It’s finding new emails all the time. And Clintonworld panicked. The spinmeisters of Clintonworld have claimed that the email scandal is just so much smoke without fire. All that’s here is the appearance of impropriety without any of the substance. But this isn’t how you react to smoke. It’s how you respond to a fire. \n",
      "The misguided assault on the FBI tells us that Hillary Clinton and her allies are afraid of a revelation bigger than the fundamental illegality of her email setup. The email setup was a preemptive cover up. The Clinton campaign has panicked badly out of the belief, right or wrong, that whatever crime the illegal setup was meant to cover up is at risk of being exposed. \n",
      "The Clintons have weathered countless scandals over the years. Whatever they are protecting this time around is bigger than the usual corruption, bribery, sexual assaults and abuses of power that have followed them around throughout the years. This is bigger and more damaging than any of the allegations that have already come out. And they don’t want FBI investigators anywhere near it. \n",
      "The campaign against Comey is pure intimidation. It’s also a warning. Any senior FBI people who value their careers are being warned to stay away. The Democrats are closing ranks around their nominee against the FBI. It’s an ugly and unprecedented scene. It may also be their last stand. \n",
      "Hillary Clinton has awkwardly wound her way through numerous scandals in just this election cycle. But she’s never shown fear or desperation before. Now that has changed. Whatever she is afraid of, it lies buried in her emails with Huma Abedin. And it can bring her down like nothing else has.  \n"
     ]
    }
   ],
   "source": [
    "# Get First row from the dataset\n",
    "print(dataset[\"text\"][0])"
   ]
  },
  {
   "cell_type": "code",
   "execution_count": 15,
   "id": "dd8f9bf0",
   "metadata": {},
   "outputs": [
    {
     "name": "stdout",
     "output_type": "stream",
     "text": [
      "<Compressed Sparse Row sparse matrix of dtype 'int64'\n",
      "\twith 152 stored elements and shape (1, 56801)>\n",
      "  Coords\tValues\n",
      "  (0, 39371)\t2\n",
      "  (0, 29886)\t1\n",
      "  (0, 18756)\t1\n",
      "  (0, 26482)\t2\n",
      "  (0, 12723)\t1\n",
      "  (0, 45820)\t1\n",
      "  (0, 49614)\t1\n",
      "  (0, 35654)\t1\n",
      "  (0, 15846)\t2\n",
      "  (0, 51775)\t5\n",
      "  (0, 23990)\t1\n",
      "  (0, 10533)\t4\n",
      "  (0, 12626)\t2\n",
      "  (0, 39599)\t1\n",
      "  (0, 20249)\t1\n",
      "  (0, 2625)\t1\n",
      "  (0, 13885)\t1\n",
      "  (0, 44932)\t1\n",
      "  (0, 43222)\t1\n",
      "  (0, 21231)\t6\n",
      "  (0, 43952)\t6\n",
      "  (0, 20679)\t1\n",
      "  (0, 45133)\t1\n",
      "  (0, 2586)\t1\n",
      "  (0, 53360)\t1\n",
      "  :\t:\n",
      "  (0, 13579)\t1\n",
      "  (0, 32470)\t1\n",
      "  (0, 16591)\t1\n",
      "  (0, 51232)\t1\n",
      "  (0, 2375)\t1\n",
      "  (0, 6216)\t1\n",
      "  (0, 2627)\t1\n",
      "  (0, 54279)\t1\n",
      "  (0, 25601)\t1\n",
      "  (0, 42242)\t1\n",
      "  (0, 48507)\t1\n",
      "  (0, 52786)\t1\n",
      "  (0, 55621)\t1\n",
      "  (0, 29341)\t2\n",
      "  (0, 12411)\t1\n",
      "  (0, 22105)\t1\n",
      "  (0, 50073)\t1\n",
      "  (0, 53108)\t1\n",
      "  (0, 32118)\t1\n",
      "  (0, 55517)\t1\n",
      "  (0, 52762)\t1\n",
      "  (0, 52971)\t1\n",
      "  (0, 52679)\t1\n",
      "  (0, 11070)\t1\n",
      "  (0, 9944)\t1\n"
     ]
    }
   ],
   "source": [
    "print(count_train[[0]])"
   ]
  },
  {
   "cell_type": "code",
   "execution_count": 16,
   "id": "08832d30",
   "metadata": {},
   "outputs": [
    {
     "data": {
      "text/plain": [
       "<Compressed Sparse Row sparse matrix of dtype 'int64'\n",
       "\twith 152 stored elements and shape (1, 56801)>"
      ]
     },
     "execution_count": 16,
     "metadata": {},
     "output_type": "execute_result"
    }
   ],
   "source": [
    "count_train[[0]]"
   ]
  },
  {
   "cell_type": "code",
   "execution_count": null,
   "id": "10783ab2",
   "metadata": {},
   "outputs": [
    {
     "name": "stdout",
     "output_type": "stream",
     "text": [
      "<Compressed Sparse Row sparse matrix of dtype 'int64'\n",
      "\twith 1103130 stored elements and shape (4244, 56801)>\n",
      "  Coords\tValues\n",
      "  (0, 39371)\t2\n",
      "  (0, 29886)\t1\n",
      "  (0, 18756)\t1\n",
      "  (0, 26482)\t2\n",
      "  (0, 12723)\t1\n",
      "  (0, 45820)\t1\n",
      "  (0, 49614)\t1\n",
      "  (0, 35654)\t1\n",
      "  (0, 15846)\t2\n",
      "  (0, 51775)\t5\n",
      "  (0, 23990)\t1\n",
      "  (0, 10533)\t4\n",
      "  (0, 12626)\t2\n",
      "  (0, 39599)\t1\n",
      "  (0, 20249)\t1\n",
      "  (0, 2625)\t1\n",
      "  (0, 13885)\t1\n",
      "  (0, 44932)\t1\n",
      "  (0, 43222)\t1\n",
      "  (0, 21231)\t6\n",
      "  (0, 43952)\t6\n",
      "  (0, 20679)\t1\n",
      "  (0, 45133)\t1\n",
      "  (0, 2586)\t1\n",
      "  (0, 53360)\t1\n",
      "  :\t:\n",
      "  (4243, 36069)\t1\n",
      "  (4243, 55860)\t1\n",
      "  (4243, 52613)\t1\n",
      "  (4243, 52905)\t1\n",
      "  (4243, 52616)\t1\n",
      "  (4243, 53548)\t1\n",
      "  (4243, 55782)\t1\n",
      "  (4243, 26778)\t1\n",
      "  (4243, 47236)\t1\n",
      "  (4243, 15081)\t1\n",
      "  (4243, 4180)\t1\n",
      "  (4243, 39152)\t1\n",
      "  (4243, 9525)\t4\n",
      "  (4243, 51326)\t1\n",
      "  (4243, 54485)\t1\n",
      "  (4243, 24622)\t1\n",
      "  (4243, 17442)\t1\n",
      "  (4243, 10187)\t3\n",
      "  (4243, 33680)\t1\n",
      "  (4243, 25010)\t4\n",
      "  (4243, 54486)\t1\n",
      "  (4243, 30857)\t1\n",
      "  (4243, 16819)\t1\n",
      "  (4243, 53403)\t1\n",
      "  (4243, 17186)\t1\n"
     ]
    }
   ],
   "source": [
    "#  **************************** Recheck the prediction of the first row **************************** #\n",
    "\n",
    "# count_vectorizer = CountVectorizer(stop_words=\"english\")\n",
    "# count_train = count_vectorizer.fit_transform(X_train)\n",
    "# print(count_train)\n"
   ]
  },
  {
   "cell_type": "code",
   "execution_count": 17,
   "id": "9c68ba9f",
   "metadata": {},
   "outputs": [
    {
     "data": {
      "text/plain": [
       "0    Daniel Greenfield, a Shillman Journalism Fello...\n",
       "Name: text, dtype: object"
      ]
     },
     "execution_count": 17,
     "metadata": {},
     "output_type": "execute_result"
    }
   ],
   "source": [
    "X_train[[0]]"
   ]
  },
  {
   "cell_type": "code",
   "execution_count": 19,
   "id": "d4eea8d0",
   "metadata": {},
   "outputs": [
    {
     "data": {
      "text/plain": [
       "array(['REAL'], dtype=object)"
      ]
     },
     "execution_count": 19,
     "metadata": {},
     "output_type": "execute_result"
    }
   ],
   "source": [
    "reg.predict(count_train[[0]])"
   ]
  }
 ],
 "metadata": {
  "kernelspec": {
   "display_name": "Python 3",
   "language": "python",
   "name": "python3"
  },
  "language_info": {
   "codemirror_mode": {
    "name": "ipython",
    "version": 3
   },
   "file_extension": ".py",
   "mimetype": "text/x-python",
   "name": "python",
   "nbconvert_exporter": "python",
   "pygments_lexer": "ipython3",
   "version": "3.11.5"
  }
 },
 "nbformat": 4,
 "nbformat_minor": 5
}
